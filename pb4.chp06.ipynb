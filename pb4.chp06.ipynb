{
 "cells": [
  {
   "cell_type": "code",
   "execution_count": 44,
   "metadata": {
    "collapsed": false
   },
   "outputs": [
    {
     "name": "stdout",
     "output_type": "stream",
     "text": [
      "I found the excercise files online so here is excercise 6\n"
     ]
    }
   ],
   "source": [
    "#data = open(\"data.csv\",'r')\n",
    "#line = data.rstrip(\"\\n\")\n",
    "#print(line)\n",
    "print ('I found the excercise files online so here is excercise 6')"
   ]
  },
  {
   "cell_type": "code",
   "execution_count": 46,
   "metadata": {
    "collapsed": false
   },
   "outputs": [],
   "source": [
    "data = open(\"data.csv\",'r')\n",
    "for line in data:\n",
    "    columns = line.rstrip(\"\\n\").split(\",\")\n",
    "    species = columns[0]\n",
    "    species_name = columns[2]\n",
    "    if species_name =='Drosophila melanogaster' or species_name == \"Drosophila simulans\":\n",
    "        print (species_name)"
   ]
  },
  {
   "cell_type": "code",
   "execution_count": 29,
   "metadata": {
    "collapsed": false
   },
   "outputs": [
    {
     "name": "stdout",
     "output_type": "stream",
     "text": [
      "109\n",
      "98\n"
     ]
    }
   ],
   "source": [
    "data = open(\"data.csv\",'r')\n",
    "#print(data)\n",
    "for line in data:\n",
    "    columns = line.rstrip(\"\\n\").split(\",\")\n",
    "    species = columns[0]\n",
    "    sequence = columns[1]\n",
    "    sequence_length = columns[3]\n",
    "    if len(sequence) > 90 and len(sequence) < 110:\n",
    "        print (str(len(sequence)))"
   ]
  },
  {
   "cell_type": "code",
   "execution_count": 35,
   "metadata": {
    "collapsed": false
   },
   "outputs": [
    {
     "name": "stdout",
     "output_type": "stream",
     "text": [
      "Non-species \n",
      "\n",
      "Non-species \n",
      "\n",
      "Non-species \n",
      "\n",
      "Drosophila yakuba\n",
      "Non-species \n",
      "\n",
      "Drosophila ananassae\n"
     ]
    }
   ],
   "source": [
    "data = open(\"data.csv\",'r')\n",
    "#print(data)\n",
    "for line in data:\n",
    "    columns = line.rstrip(\"\\n\").split(\",\")\n",
    "    species = columns[0]\n",
    "    sequence = columns[1]\n",
    "    exp_lvl = columns[3]\n",
    "    A_content = sequence.upper().count(\"A\")\n",
    "    T_content = sequence.upper().count(\"T\")\n",
    "    seq_len = len(sequence)\n",
    "    AT_content = ((A_content + T_content)/seq_len) \n",
    "    if AT_content < 0.5 and exp_lvl > '200':\n",
    "        print(species)\n",
    "    else:\n",
    "        print('Non-species',\"\\n\")"
   ]
  },
  {
   "cell_type": "code",
   "execution_count": 43,
   "metadata": {
    "collapsed": false
   },
   "outputs": [
    {
     "name": "stdout",
     "output_type": "stream",
     "text": [
      "kdy533 and Drosophila simulans\n",
      "hdt739 and Drosophila yakuba\n",
      "hdu045 and Drosophila ananassae\n"
     ]
    }
   ],
   "source": [
    "import re\n",
    "data = open(\"data.csv\",'r')\n",
    "#print(data)\n",
    "for line in data:\n",
    "    columns = line.rstrip(\"\\n\").split(\",\")\n",
    "    species = columns[0]\n",
    "    species_name = columns[2]\n",
    "    for name in species_name:\n",
    "        if (name.startswith ('k') or name.startswith ('h')) and not species == \"Drosophila melanogaster\":\n",
    "            print (species_name + \" and \" + species)"
   ]
  },
  {
   "cell_type": "code",
   "execution_count": 55,
   "metadata": {
    "collapsed": false
   },
   "outputs": [
    {
     "name": "stdout",
     "output_type": "stream",
     "text": [
      "Drosophila melanogaster\thas high AT content\t its gene name :kdy647\n",
      "Drosophila melanogaster\thas medium AT content\t its gene name :jdg766\n",
      "Drosophila simulans\thas medium AT content\t its gene name :kdy533\n",
      "Drosophila yakuba\thas low AT content\t its gene name :hdt739\n",
      "Drosophila ananassae\thas medium AT content\t its gene name :hdu045\n",
      "Drosophila ananassae\thas medium AT content\t its gene name :teg436\n"
     ]
    }
   ],
   "source": [
    "data = open(\"data.csv\",'r')\n",
    "#print(data)\n",
    "for line in data:\n",
    "    columns = line.rstrip(\"\\n\").split(\",\")\n",
    "    species = columns[0]\n",
    "    sequence = columns[1]\n",
    "    exp_lvl = columns[3]\n",
    "    A_content = sequence.upper().count(\"A\")\n",
    "    T_content = sequence.upper().count(\"T\")\n",
    "    seq_len = len(sequence)\n",
    "    AT_content = ((A_content + T_content)/seq_len) \n",
    "    if AT_content > 0.65:\n",
    "        print (species + '\\t' + \"has high AT content\" + '\\t'+ \" its gene name :\" + columns[2])\n",
    "    if AT_content > 0.45 and AT_content < 0.65:\n",
    "        print (species + '\\t' + \"has medium AT content\" + '\\t'+ \" its gene name :\" + columns[2])\n",
    "    if AT_content < 0.45:\n",
    "        print (species + '\\t' + \"has low AT content\" + '\\t'+ \" its gene name :\" + columns[2])"
   ]
  },
  {
   "cell_type": "code",
   "execution_count": null,
   "metadata": {
    "collapsed": true
   },
   "outputs": [],
   "source": []
  }
 ],
 "metadata": {
  "kernelspec": {
   "display_name": "Python 3",
   "language": "python",
   "name": "python3"
  },
  "language_info": {
   "codemirror_mode": {
    "name": "ipython",
    "version": 3
   },
   "file_extension": ".py",
   "mimetype": "text/x-python",
   "name": "python",
   "nbconvert_exporter": "python",
   "pygments_lexer": "ipython3",
   "version": "3.6.0"
  }
 },
 "nbformat": 4,
 "nbformat_minor": 2
}
