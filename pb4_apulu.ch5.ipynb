{
 "cells": [
  {
   "cell_type": "code",
   "execution_count": 3,
   "metadata": {
    "collapsed": false
   },
   "outputs": [
    {
     "name": "stdout",
     "output_type": "stream",
     "text": [
      "10.0\n"
     ]
    }
   ],
   "source": [
    "protein = \"MSRSLLLRFLLFLLLLPPLP\"\n",
    "aa = \"R\"\n",
    "aa_count = protein.count(aa)\n",
    "protein_length = len(protein)\n",
    "percentage = aa_count * 100 / protein_length\n",
    "print(percentage)\n",
    "\n",
    "def get_aa_percentage(protein, aa):\n",
    "\n",
    "        protein = protein.upper()\n",
    "        aa = aa.upper()\n",
    "        aa_count = protein.count(aa)\n",
    "        protein_length = len(protein)\n",
    "        percentage = aa_count * 100 / protein_length\n",
    "        return percentage"
   ]
  },
  {
   "cell_type": "code",
   "execution_count": 11,
   "metadata": {
    "collapsed": false
   },
   "outputs": [
    {
     "name": "stdout",
     "output_type": "stream",
     "text": [
      "counting number of M\n",
      "running total is 1\n",
      "final percentage is 5.0\n",
      "counting number of L\n",
      "running total is 11\n",
      "final percentage is 55.0\n",
      "counting number of F\n",
      "running total is 13\n",
      "final percentage is 65.0\n"
     ]
    }
   ],
   "source": [
    "protein = \"MSRSLLLRFLLFLLLLPPLP\"\n",
    "a_list = ['M', 'L', 'F']\n",
    "\n",
    "total = 0\n",
    "for a in a_list:\n",
    "    print(\"counting number of \" + a)\n",
    "    a = a.upper()\n",
    "    a_count = protein.count(a)\n",
    "\n",
    "    total = total + a_count\n",
    "    print(\"running total is \" + str(total))\n",
    "    percentage = total * 100 / len(protein)\n",
    "    print(\"final percentage is \" + str(percentage))\n",
    "    \n",
    "def get_aa_percentage(protein, aa_list=['A','I','L','M','F','W','Y','V']):\n",
    "    protein = protein.upper()\n",
    "    protein_length = len(protein)\n",
    "    total = 0\n",
    "    for a in a_list:\n",
    "        a = a.upper()\n",
    "        a_count = protein.count(a)\n",
    "        total = total + a_count\n",
    "        percentage = total * 100 / protein_length\n",
    "        return percentage"
   ]
  },
  {
   "cell_type": "code",
   "execution_count": null,
   "metadata": {
    "collapsed": true
   },
   "outputs": [],
   "source": []
  }
 ],
 "metadata": {
  "kernelspec": {
   "display_name": "Python 3",
   "language": "python",
   "name": "python3"
  },
  "language_info": {
   "codemirror_mode": {
    "name": "ipython",
    "version": 3
   },
   "file_extension": ".py",
   "mimetype": "text/x-python",
   "name": "python",
   "nbconvert_exporter": "python",
   "pygments_lexer": "ipython3",
   "version": "3.6.0"
  }
 },
 "nbformat": 4,
 "nbformat_minor": 2
}
