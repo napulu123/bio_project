{
 "cells": [
  {
   "cell_type": "code",
   "execution_count": 7,
   "metadata": {
    "collapsed": false
   },
   "outputs": [],
   "source": [
    "import re\n",
    "\n",
    "dna = \"ATCGCGAATTCAC\"\n",
    "if re.search(r\"GC[ATGC]GC\", dna):\n",
    "    print(\"restriction site found!\")"
   ]
  },
  {
   "cell_type": "code",
   "execution_count": 8,
   "metadata": {
    "collapsed": false
   },
   "outputs": [
    {
     "name": "stdout",
     "output_type": "stream",
     "text": [
      "GACGTAC\n"
     ]
    }
   ],
   "source": [
    "dna = \"ATGACGTACGTACGACTG\"\n",
    "# store the match object in the variable m\n",
    "m = re.search(r\"GA[ATGC]{3}AC\", dna)\n",
    "print(m.group())\n"
   ]
  },
  {
   "cell_type": "code",
   "execution_count": 9,
   "metadata": {
    "collapsed": false
   },
   "outputs": [
    {
     "name": "stdout",
     "output_type": "stream",
     "text": [
      "start: 2\n",
      "end: 13\n",
      "group 1 start: 4\n",
      "group 1 end: 7\n",
      "group 2 start: 9\n",
      "group 2 end: 11\n"
     ]
    }
   ],
   "source": [
    "dna = \"ATGACGTACGTACGACTG\"\n",
    "m = re.search(r\"GA([ATGC]{3})AC([ATGC]{2})AC\", dna)\n",
    "print(\"start: \" + str(m.start()))\n",
    "print(\"end: \" + str(m.end()))\n",
    "print(\"group 1 start: \" + str(m.start(1)))\n",
    "print(\"group 1 end: \" + str(m.end(1)))\n",
    "print(\"group 2 start: \" + str(m.start(2)))\n",
    "print(\"group 2 end: \" + str(m.end(2)))"
   ]
  },
  {
   "cell_type": "code",
   "execution_count": 10,
   "metadata": {
    "collapsed": false
   },
   "outputs": [
    {
     "name": "stdout",
     "output_type": "stream",
     "text": [
      "['ACT', 'GCAT', 'GCTACGT', 'ACGAT', 'CGA', 'TCG']\n"
     ]
    }
   ],
   "source": [
    "dna = \"ACTNGCATRGCTACGTYACGATSCGAWTCG\"\n",
    "runs = re.split(r\"[^ATGC]\", dna)\n",
    "print(runs)"
   ]
  },
  {
   "cell_type": "code",
   "execution_count": 38,
   "metadata": {
    "collapsed": false
   },
   "outputs": [
    {
     "name": "stdout",
     "output_type": "stream",
     "text": [
      "\txkn59438\n",
      "\txkn59438\n",
      "\txkn59438\n",
      "\txkn59438\n",
      "\tyhdck2\n",
      "\tyhdck2\n",
      "\teihd39d9\n",
      "\teihd39d9\n",
      "\tchdsye847\n",
      "\tchdsye847\n",
      "\tchdsye847\n",
      "\tchdsye847\n",
      "\tchdsye847\n",
      "\thedle3455\n",
      "\thedle3455\n",
      "\thedle3455\n",
      "\thedle3455\n",
      "\thedle3455\n",
      "\thedle3455\n",
      "\thedle3455\n",
      "\txjhd53e\n",
      "\txjhd53e\n",
      "\txjhd53e\n",
      "\txjhd53e\n",
      "\txjhd53e\n",
      "\txjhd53e\n",
      "\t45da\n",
      "\t45da\n",
      "\t45da\n",
      "\tde37dp\n",
      "\tde37dp\n",
      "\tde37dp\n",
      "\tde37dp\n"
     ]
    },
    {
     "data": {
      "text/plain": [
       "<IPython.core.autocall.ZMQExitAutocall at 0x1b1cf3864a8>"
      ]
     },
     "execution_count": 38,
     "metadata": {},
     "output_type": "execute_result"
    }
   ],
   "source": [
    "#Excercise_7\n",
    "import re\n",
    "\n",
    "accession_number = ('xkn59438', 'yhdck2', 'eihd39d9', 'chdsye847', 'hedle3455', 'xjhd53e', '45da', 'de37dp')\n",
    "\n",
    "#print(accession_number)\n",
    "for acc in accession_number:\n",
    "    if re.search(r\"5\",acc):\n",
    "        print(\"\\t\" + acc)\n",
    "    if re.search(r\"d|e\",acc):    \n",
    "        print(\"\\t\" + acc)\n",
    "    if re.search(r\"d.*e\", acc):\n",
    "        print(\"\\t\" + acc)\n",
    "    if re.search(r\"(d.e)\", acc):\n",
    "        print(\"\\t\" + acc)\n",
    "    if re.search(r\"d.*e\", acc) or re.search(r\"e.*d\", acc):\n",
    "        print(\"\\t\" + acc)\n",
    "    if re.search(r\"^(x|y)\", acc):\n",
    "        print(\"\\t\" + acc)\n",
    "    if re.search(r\"^(x|y).*e$\", acc):\n",
    "        print(\"\\t\" + acc)\n",
    "    if re.search(r\"[0123456789]{3,100}\", acc):\n",
    "        print(\"\\t\" + acc)\n",
    "    if re.search(r\"\\d{3,}\", acc):\n",
    "        print(\"\\t\" + acc)\n",
    "    if re.search(r\"d[arp]$\", acc):\n",
    "        print(\"\\t\" + acc)\n",
    "exit"
   ]
  },
  {
   "cell_type": "code",
   "execution_count": 47,
   "metadata": {
    "collapsed": false
   },
   "outputs": [
    {
     "name": "stdout",
     "output_type": "stream",
     "text": [
      "2012\n",
      "[0, 488, 1143, 1628, 2012]\n",
      "[0, 488, 1143, 1577, 1628, 2012, 2012]\n",
      "fragment size: 488\n",
      "fragment size: 655\n",
      "fragment size: 434\n",
      "fragment size: 51\n",
      "fragment size: 384\n",
      "fragment size: 0\n"
     ]
    }
   ],
   "source": [
    "\n",
    "import re\n",
    "dna = open(\"dna.txt\").read().rstrip(\"\\n\")\n",
    "print(str(len(dna)))\n",
    "all_cuts = [0]\n",
    "# add cut positions for AbcI\n",
    "for match in re.finditer(r\"A[ATGC]TAAT\", dna):\n",
    "    all_cuts.append(match.start() + 3)\n",
    "# add cut positions for AbcII\n",
    "for match in re.finditer(r\"GC[AG][AT]TG\", dna):\n",
    "    all_cuts.append(match.start() + 4)\n",
    "    all_cuts.append(len(dna))\n",
    "    sorted_cuts = sorted(all_cuts)\n",
    "    print(sorted_cuts)\n",
    "for i in range(1,len(sorted_cuts)):\n",
    "    this_cut_position = sorted_cuts[i]\n",
    "    previous_cut_position = sorted_cuts[i-1]\n",
    "    fragment_size = this_cut_position - previous_cut_position\n",
    "    print(\"fragment size: \" + str(fragment_size))"
   ]
  },
  {
   "cell_type": "code",
   "execution_count": null,
   "metadata": {
    "collapsed": true
   },
   "outputs": [],
   "source": []
  }
 ],
 "metadata": {
  "kernelspec": {
   "display_name": "Python 3",
   "language": "python",
   "name": "python3"
  },
  "language_info": {
   "codemirror_mode": {
    "name": "ipython",
    "version": 3
   },
   "file_extension": ".py",
   "mimetype": "text/x-python",
   "name": "python",
   "nbconvert_exporter": "python",
   "pygments_lexer": "ipython3",
   "version": "3.6.0"
  }
 },
 "nbformat": 4,
 "nbformat_minor": 2
}
